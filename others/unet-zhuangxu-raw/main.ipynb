{
 "cells": [
  {
   "cell_type": "code",
   "execution_count": 1,
   "metadata": {},
   "outputs": [
    {
     "name": "stderr",
     "output_type": "stream",
     "text": [
      "Using TensorFlow backend.\n"
     ]
    }
   ],
   "source": [
    "import numpy as np\n",
    "import random\n",
    "from scipy.io import loadmat\n",
    "\n",
    "from keras import models\n",
    "from keras import layers\n",
    "from model import *\n",
    "import keras\n",
    "\n",
    "import matplotlib.pyplot as plt"
   ]
  },
  {
   "cell_type": "code",
   "execution_count": 2,
   "metadata": {},
   "outputs": [],
   "source": [
    "fields = np.zeros([38, 500, 500])\n",
    "phases = np.zeros([38, 8, 8])\n",
    "list_num = [1.4, 1.41, 1.42, 1.43, 1.44, 1.45, 1.46, 1.47, 1.48, 1.49, 1.5, 1.51, 1.52, 1.53, 1.54, 1.55, 1.56, 1.57, 1.58, 1.59, 1.61, 1.62, 1.63, 1.64, 1.65, 1.66, 1.67, 1.68, 1.69, 1.71, 1.72, 1.73, 1.74, 1.75, 1.76, 1.77, 1.78, 1.79]\n",
    "list_num = np.array(list_num)/10"
   ]
  },
  {
   "cell_type": "code",
   "execution_count": 3,
   "metadata": {},
   "outputs": [],
   "source": [
    "for i in range(38):\n",
    "    fields[i] = loadmat(r\"./data/height\"+str(list_num[i])+\"field.mat\")['capacity']\n",
    "    phases[i] = loadmat(r\"./data/height\"+str(list_num[i])+\"phase.mat\")['initial_phase']"
   ]
  },
  {
   "cell_type": "code",
   "execution_count": 4,
   "metadata": {},
   "outputs": [
    {
     "data": {
      "text/plain": [
       "array([[ 0.        ,  1.44960598,  2.42686996,  2.91884902,  2.91884902,\n",
       "         2.42686996,  1.44960598,  0.        ],\n",
       "       [ 1.44960598,  2.91884902,  3.90965661,  4.40854946,  4.40854946,\n",
       "         3.90965661,  2.91884902,  1.44960598],\n",
       "       [ 2.42686996,  3.90965661,  4.9098125 ,  5.41347984,  5.41347984,\n",
       "         4.9098125 ,  3.90965661,  2.42686996],\n",
       "       [ 2.91884902,  4.40854946,  5.41347984,  5.91958641,  5.91958641,\n",
       "         5.41347984,  4.40854946,  2.91884902],\n",
       "       [ 2.91884902,  4.40854946,  5.41347984,  5.91958641,  5.91958641,\n",
       "         5.41347984,  4.40854946,  2.91884902],\n",
       "       [ 2.42686996,  3.90965661,  4.9098125 ,  5.41347984,  5.41347984,\n",
       "         4.9098125 ,  3.90965661,  2.42686996],\n",
       "       [ 1.44960598,  2.91884902,  3.90965661,  4.40854946,  4.40854946,\n",
       "         3.90965661,  2.91884902,  1.44960598],\n",
       "       [ 0.        ,  1.44960598,  2.42686996,  2.91884902,  2.91884902,\n",
       "         2.42686996,  1.44960598,  0.        ]])"
      ]
     },
     "execution_count": 4,
     "metadata": {},
     "output_type": "execute_result"
    }
   ],
   "source": [
    "phases[3]"
   ]
  },
  {
   "cell_type": "code",
   "execution_count": 5,
   "metadata": {},
   "outputs": [],
   "source": [
    "new_fields = np.zeros([38, 256, 256])\n",
    "new_phases = np.zeros([38, 256, 256])"
   ]
  },
  {
   "cell_type": "code",
   "execution_count": 6,
   "metadata": {},
   "outputs": [],
   "source": [
    "for z in range(38):\n",
    "    for i in range(256):\n",
    "        for j in range(256):\n",
    "            new_fields[z][i][j] = fields[z][round(500*i/256)][round(500*j/256)]\n",
    "            new_phases[z][i][j] = phases[z][int(i/32)][int(j/32)]"
   ]
  },
  {
   "cell_type": "code",
   "execution_count": 7,
   "metadata": {},
   "outputs": [],
   "source": [
    "#写一个算法随机把索引分为两个部分\n",
    "index = list(range(38))\n",
    "random.shuffle(index)\n",
    "train_index = np.array(index[0:30])\n",
    "valid_index = np.array(index[30:38])\n",
    "\n",
    "#用索引来生成训练验证和测试集的数据\n",
    "train_data = new_fields[train_index]\n",
    "valid_data = new_fields[valid_index]\n",
    "\n",
    "#用索引来生成标签（二者有函数关系）\n",
    "train_label = new_phases[train_index]\n",
    "valid_label = new_phases[valid_index]"
   ]
  },
  {
   "cell_type": "code",
   "execution_count": 8,
   "metadata": {},
   "outputs": [],
   "source": [
    "def Normalize(data):\n",
    "    #归一化\n",
    "    m = np.mean(data)\n",
    "    mx = max(data.flatten())\n",
    "    mn = min(data.flatten())\n",
    "    return [(i - m) / (mx - mn) for i in data]"
   ]
  },
  {
   "cell_type": "code",
   "execution_count": 9,
   "metadata": {},
   "outputs": [],
   "source": [
    "train_data = np.array(Normalize(train_data))\n",
    "train_label = np.array(Normalize(train_label))\n",
    "valid_data = np.array(Normalize(valid_data))\n",
    "valid_label = np.array(Normalize(valid_label))"
   ]
  },
  {
   "cell_type": "code",
   "execution_count": 10,
   "metadata": {
    "scrolled": true
   },
   "outputs": [
    {
     "data": {
      "text/plain": [
       "array([[[ 0.05065775,  0.05065148,  0.050644  , ...,  0.05067468,\n",
       "          0.05067538,  0.05067509],\n",
       "        [ 0.05065148,  0.05064361,  0.05063439, ...,  0.05067434,\n",
       "          0.05067589,  0.05067631],\n",
       "        [ 0.050644  ,  0.05063439,  0.05062327, ...,  0.05067343,\n",
       "          0.05067595,  0.05067716],\n",
       "        ..., \n",
       "        [ 0.05067468,  0.05067434,  0.05067343, ...,  0.05067056,\n",
       "          0.05066845,  0.05066597],\n",
       "        [ 0.05067538,  0.05067589,  0.05067595, ...,  0.05066845,\n",
       "          0.05066602,  0.05066333],\n",
       "        [ 0.05067509,  0.05067631,  0.05067716, ...,  0.05066597,\n",
       "          0.05066333,  0.05066053]],\n",
       "\n",
       "       [[ 0.05064168,  0.05064312,  0.05064436, ...,  0.05063566,\n",
       "          0.05063438,  0.05063315],\n",
       "        [ 0.05064312,  0.0506445 ,  0.05064563, ...,  0.05063688,\n",
       "          0.05063541,  0.05063394],\n",
       "        [ 0.05064436,  0.05064563,  0.05064656, ...,  0.05063809,\n",
       "          0.05063644,  0.05063473],\n",
       "        ..., \n",
       "        [ 0.05063566,  0.05063688,  0.05063809, ...,  0.05063142,\n",
       "          0.05063089,  0.05063053],\n",
       "        [ 0.05063438,  0.05063541,  0.05063644, ...,  0.05063089,\n",
       "          0.05063052,  0.05063033],\n",
       "        [ 0.05063315,  0.05063394,  0.05063473, ...,  0.05063053,\n",
       "          0.05063033,  0.0506303 ]],\n",
       "\n",
       "       [[ 0.05065962,  0.05065845,  0.05065699, ...,  0.05065758,\n",
       "          0.05065622,  0.0506546 ],\n",
       "        [ 0.05065845,  0.05065643,  0.05065403, ...,  0.05065862,\n",
       "          0.05065743,  0.0506559 ],\n",
       "        [ 0.05065699,  0.05065403,  0.05065058, ...,  0.05065961,\n",
       "          0.05065863,  0.0506572 ],\n",
       "        ..., \n",
       "        [ 0.05065758,  0.05065862,  0.05065961, ...,  0.05065078,\n",
       "          0.05064923,  0.05064769],\n",
       "        [ 0.05065622,  0.05065743,  0.05065863, ...,  0.05064923,\n",
       "          0.05064772,  0.05064626],\n",
       "        [ 0.0506546 ,  0.0506559 ,  0.0506572 , ...,  0.05064769,\n",
       "          0.05064626,  0.0506449 ]],\n",
       "\n",
       "       ..., \n",
       "       [[ 0.05033476,  0.05030906,  0.05028349, ...,  0.05044308,\n",
       "          0.05046462,  0.05048537],\n",
       "        [ 0.05030906,  0.05028134,  0.05025372, ...,  0.05042586,\n",
       "          0.05044902,  0.0504713 ],\n",
       "        [ 0.05028349,  0.05025372,  0.05022401, ...,  0.05040884,\n",
       "          0.05043363,  0.05045744],\n",
       "        ..., \n",
       "        [ 0.05044308,  0.05042586,  0.05040884, ...,  0.05051616,\n",
       "          0.05053092,  0.05054522],\n",
       "        [ 0.05046462,  0.05044902,  0.05043363, ...,  0.05053092,\n",
       "          0.05054435,  0.05055737],\n",
       "        [ 0.05048537,  0.0504713 ,  0.05045744, ...,  0.05054522,\n",
       "          0.05055737,  0.05056915]],\n",
       "\n",
       "       [[ 0.0504318 ,  0.05041115,  0.05039064, ...,  0.05052072,\n",
       "          0.05053854,  0.05055567],\n",
       "        [ 0.05041115,  0.05038878,  0.05036653, ...,  0.0505072 ,\n",
       "          0.05052642,  0.05054488],\n",
       "        [ 0.05039064,  0.05036653,  0.05034257, ...,  0.05049373,\n",
       "          0.05051431,  0.05053408],\n",
       "        ..., \n",
       "        [ 0.05052072,  0.0505072 ,  0.05049373, ...,  0.05057949,\n",
       "          0.05059124,  0.0506025 ],\n",
       "        [ 0.05053854,  0.05052642,  0.05051431, ...,  0.05059124,\n",
       "          0.05060173,  0.05061178],\n",
       "        [ 0.05055567,  0.05054488,  0.05053408, ...,  0.0506025 ,\n",
       "          0.05061178,  0.05062064]],\n",
       "\n",
       "       [[ 0.05054894,  0.0505344 ,  0.05051955, ...,  0.05060505,\n",
       "          0.05061516,  0.05062447],\n",
       "        [ 0.0505344 ,  0.05051812,  0.0505015 , ...,  0.0505971 ,\n",
       "          0.05060837,  0.05061876],\n",
       "        [ 0.05051955,  0.0505015 ,  0.05048306, ...,  0.05058895,\n",
       "          0.0506014 ,  0.05061287],\n",
       "        ..., \n",
       "        [ 0.05060505,  0.0505971 ,  0.05058895, ...,  0.05063569,\n",
       "          0.05064115,  0.05064615],\n",
       "        [ 0.05061516,  0.05060837,  0.0506014 , ...,  0.05064115,\n",
       "          0.05064574,  0.05064993],\n",
       "        [ 0.05062447,  0.05061876,  0.05061287, ...,  0.05064615,\n",
       "          0.05064993,  0.05065334]]])"
      ]
     },
     "execution_count": 10,
     "metadata": {},
     "output_type": "execute_result"
    }
   ],
   "source": [
    "valid_data"
   ]
  },
  {
   "cell_type": "code",
   "execution_count": 11,
   "metadata": {
    "scrolled": true
   },
   "outputs": [
    {
     "data": {
      "text/plain": [
       "(8, 256, 256)"
      ]
     },
     "execution_count": 11,
     "metadata": {},
     "output_type": "execute_result"
    }
   ],
   "source": [
    "valid_label.shape"
   ]
  },
  {
   "cell_type": "code",
   "execution_count": 12,
   "metadata": {},
   "outputs": [],
   "source": [
    "train_data = train_data.reshape(30,256,256,1)\n",
    "valid_data = valid_data.reshape(8,256,256,1)\n",
    "train_label = train_label.reshape(30,256,256,1)\n",
    "valid_label = valid_label.reshape(8,256,256,1)"
   ]
  },
  {
   "cell_type": "code",
   "execution_count": 13,
   "metadata": {},
   "outputs": [
    {
     "name": "stderr",
     "output_type": "stream",
     "text": [
      "/home/xuzhuang/Desktop/大创/model.py:53: UserWarning: Update your `Model` call to the Keras 2 API: `Model(inputs=Tensor(\"in..., outputs=Tensor(\"co...)`\n",
      "  model = Model(input = inputs, output = conv10)\n"
     ]
    }
   ],
   "source": [
    "model = unet()"
   ]
  },
  {
   "cell_type": "code",
   "execution_count": 14,
   "metadata": {},
   "outputs": [],
   "source": [
    "#model_checkpoint = ModelCheckpoint('unet_membrane.hdf5', monitor='loss',verbose=1, save_best_only=True)"
   ]
  },
  {
   "cell_type": "code",
   "execution_count": 15,
   "metadata": {
    "scrolled": true
   },
   "outputs": [
    {
     "name": "stdout",
     "output_type": "stream",
     "text": [
      "Train on 30 samples, validate on 8 samples\n",
      "Epoch 1/10\n",
      "1/1 [==============================] - 163s 163s/step - loss: 0.6928 - acc: 0.0000e+00 - val_loss: 0.6178 - val_acc: 0.0000e+00\n",
      "Epoch 2/10\n",
      "1/1 [==============================] - 141s 141s/step - loss: 0.5926 - acc: 0.0000e+00 - val_loss: 0.4925 - val_acc: 0.0000e+00\n",
      "Epoch 3/10\n",
      "1/1 [==============================] - 130s 130s/step - loss: 0.4909 - acc: 0.0000e+00 - val_loss: 0.3910 - val_acc: 0.0000e+00\n",
      "Epoch 4/10\n",
      "1/1 [==============================] - 129s 129s/step - loss: 0.3607 - acc: 0.0000e+00 - val_loss: 0.2570 - val_acc: 0.0000e+00\n",
      "Epoch 5/10\n",
      "1/1 [==============================] - 131s 131s/step - loss: 0.2274 - acc: 0.0000e+00 - val_loss: 0.0954 - val_acc: 0.0000e+00\n",
      "Epoch 6/10\n",
      "1/1 [==============================] - 131s 131s/step - loss: 0.0931 - acc: 0.0000e+00 - val_loss: 0.0659 - val_acc: 0.0000e+00\n",
      "Epoch 7/10\n",
      "1/1 [==============================] - 155s 155s/step - loss: 5.6658e-04 - acc: 0.0000e+00 - val_loss: -0.1581 - val_acc: 0.0000e+00\n",
      "Epoch 8/10\n",
      "1/1 [==============================] - 153s 153s/step - loss: -0.1994 - acc: 0.0000e+00 - val_loss: -0.3081 - val_acc: 0.0000e+00\n",
      "Epoch 9/10\n",
      "1/1 [==============================] - 150s 150s/step - loss: -0.2288 - acc: 0.0000e+00 - val_loss: -0.4499 - val_acc: 0.0000e+00\n",
      "Epoch 10/10\n",
      "1/1 [==============================] - 151s 151s/step - loss: -0.3484 - acc: 0.0000e+00 - val_loss: -0.7387 - val_acc: 0.0000e+00\n"
     ]
    }
   ],
   "source": [
    "history = model.fit(train_data,\n",
    "          train_label,\n",
    "          steps_per_epoch=1,\n",
    "          epochs=10,\n",
    "          validation_data = (valid_data, valid_label),\n",
    "          validation_steps=8)"
   ]
  },
  {
   "cell_type": "code",
   "execution_count": 16,
   "metadata": {},
   "outputs": [
    {
     "data": {
      "text/plain": [
       "<matplotlib.legend.Legend at 0x7f2f64551a20>"
      ]
     },
     "execution_count": 16,
     "metadata": {},
     "output_type": "execute_result"
    },
    {
     "data": {
      "image/png": "[encoded data removed]",
      "text/plain": [
       "<matplotlib.figure.Figure at 0x7f2f742da6d8>"
      ]
     },
     "metadata": {
      "needs_background": "light"
     },
     "output_type": "display_data"
    }
   ],
   "source": [
    "#这里的loss就是我们作图要用的数组了，val_loss指的是在验证集上的损失函数值的变化\n",
    "loss=history.history['loss']\n",
    "val_loss = history.history['val_loss']\n",
    "\n",
    "#这里就可以作出图像，用的是matplotlib.pyplot这个包\n",
    "fig=plt.figure()\n",
    "ax=fig.add_subplot(1,1,1)\n",
    "ax.plot(loss, 'b', label='loss')\n",
    "ax.plot(val_loss, 'g', label='valid_loss')\n",
    "ax.legend(loc=\"best\")"
   ]
  },
  {
   "cell_type": "code",
   "execution_count": 17,
   "metadata": {},
   "outputs": [],
   "source": [
    "model.save(\"./model_log6\", overwrite=True, include_optimizer=True )"
   ]
  },
  {
   "cell_type": "code",
   "execution_count": 18,
   "metadata": {},
   "outputs": [],
   "source": [
    "#model = models.load_model(\"./model_log2\")"
   ]
  },
  {
   "cell_type": "code",
   "execution_count": 19,
   "metadata": {},
   "outputs": [],
   "source": [
    "predict_143 = model.predict(np.array(Normalize(new_fields[3].reshape(1,256,256,1))))"
   ]
  },
  {
   "cell_type": "code",
   "execution_count": 20,
   "metadata": {},
   "outputs": [
    {
     "data": {
      "text/plain": [
       "array([[[[ 0.41534963],\n",
       "         [ 0.19236104],\n",
       "         [ 0.11974071],\n",
       "         ..., \n",
       "         [ 0.28347966],\n",
       "         [ 0.41745579],\n",
       "         [ 0.46456698]],\n",
       "\n",
       "        [[ 0.16312061],\n",
       "         [ 0.06440326],\n",
       "         [ 0.02453728],\n",
       "         ..., \n",
       "         [ 0.13957115],\n",
       "         [ 0.35415384],\n",
       "         [ 0.45075384]],\n",
       "\n",
       "        [[ 0.15759571],\n",
       "         [ 0.03885843],\n",
       "         [ 0.02026303],\n",
       "         ..., \n",
       "         [ 0.11975987],\n",
       "         [ 0.30807287],\n",
       "         [ 0.4777011 ]],\n",
       "\n",
       "        ..., \n",
       "        [[ 0.13615756],\n",
       "         [ 0.05699483],\n",
       "         [ 0.03142534],\n",
       "         ..., \n",
       "         [ 0.18038379],\n",
       "         [ 0.24430031],\n",
       "         [ 0.4209747 ]],\n",
       "\n",
       "        [[ 0.1626029 ],\n",
       "         [ 0.10578124],\n",
       "         [ 0.06600442],\n",
       "         ..., \n",
       "         [ 0.22851995],\n",
       "         [ 0.28252351],\n",
       "         [ 0.42489773]],\n",
       "\n",
       "        [[ 0.33107749],\n",
       "         [ 0.21414579],\n",
       "         [ 0.16024633],\n",
       "         ..., \n",
       "         [ 0.29027262],\n",
       "         [ 0.29875791],\n",
       "         [ 0.39151987]]]], dtype=float32)"
      ]
     },
     "execution_count": 20,
     "metadata": {},
     "output_type": "execute_result"
    }
   ],
   "source": [
    "predict_143"
   ]
  },
  {
   "cell_type": "code",
   "execution_count": null,
   "metadata": {},
   "outputs": [],
   "source": []
  }
 ],
 "metadata": {
  "kernelspec": {
   "display_name": "Python 3",
   "language": "python",
   "name": "python3"
  },
  "language_info": {
   "codemirror_mode": {
    "name": "ipython",
    "version": 3
   },
   "file_extension": ".py",
   "mimetype": "text/x-python",
   "name": "python",
   "nbconvert_exporter": "python",
   "pygments_lexer": "ipython3",
   "version": "3.6.4"
  }
 },
 "nbformat": 4,
 "nbformat_minor": 2
}
